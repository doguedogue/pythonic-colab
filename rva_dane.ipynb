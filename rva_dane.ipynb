{
  "nbformat": 4,
  "nbformat_minor": 0,
  "metadata": {
    "colab": {
      "provenance": [],
      "authorship_tag": "ABX9TyP1VsmvymxSVICLU12hoJtQ",
      "include_colab_link": true
    },
    "kernelspec": {
      "name": "python3",
      "display_name": "Python 3"
    },
    "language_info": {
      "name": "python"
    }
  },
  "cells": [
    {
      "cell_type": "markdown",
      "metadata": {
        "id": "view-in-github",
        "colab_type": "text"
      },
      "source": [
        "<a href=\"https://colab.research.google.com/github/doguedogue/pythonic-colab/blob/main/rva_dane.ipynb\" target=\"_parent\"><img src=\"https://colab.research.google.com/assets/colab-badge.svg\" alt=\"Open In Colab\"/></a>"
      ]
    },
    {
      "cell_type": "markdown",
      "source": [
        "#Pythonic - Colab - DANE"
      ],
      "metadata": {
        "id": "IO9J1SLAieAF"
      }
    },
    {
      "cell_type": "markdown",
      "source": [
        "## Aula 3\n"
      ],
      "metadata": {
        "id": "JrWhYwh3ikft"
      }
    },
    {
      "cell_type": "markdown",
      "source": [
        "### Carga google drive"
      ],
      "metadata": {
        "id": "7QlZD76BitfU"
      }
    },
    {
      "cell_type": "code",
      "source": [
        "from google.colab import drive\n",
        "drive.mount('/content/drive')"
      ],
      "metadata": {
        "colab": {
          "base_uri": "https://localhost:8080/"
        },
        "id": "AgIkGoOIihoK",
        "outputId": "6ab6531b-6344-406f-b1c3-aa3a736ffe9b"
      },
      "execution_count": 1,
      "outputs": [
        {
          "output_type": "stream",
          "name": "stdout",
          "text": [
            "Mounted at /content/drive\n"
          ]
        }
      ]
    },
    {
      "cell_type": "markdown",
      "source": [
        "### Cargando archivo de datos\n",
        "\n",
        "SRC = https://microdatos.dane.gov.co/index.php/catalog/743/get-microdata"
      ],
      "metadata": {
        "id": "o__rl0T2kUT1"
      }
    },
    {
      "cell_type": "code",
      "source": [
        "import pandas as pd\n",
        "\n",
        "datos_raw = pd.read_csv('/content/drive/MyDrive/Colab Notebooks/Identificación (Capítulo A).csv', sep=';', encoding='latin-1')\n",
        "\n",
        "datos_raw.head()"
      ],
      "metadata": {
        "colab": {
          "base_uri": "https://localhost:8080/",
          "height": 319
        },
        "id": "p9Hfs1eVkXgq",
        "outputId": "3a162328-de9d-4256-edbc-03e061794017"
      },
      "execution_count": 2,
      "outputs": [
        {
          "output_type": "execute_result",
          "data": {
            "text/plain": [
              "   DIRECTORIO  DPTO   MPIO  CLASE  COD_LOCALIDAD NOMBRE_LOCALIDAD  \\\n",
              "0   3004346.0    11  11001      1            3.0         Santa Fe   \n",
              "1   3004347.0    11  11001      1           14.0     Los Mártires   \n",
              "2   3004348.0    11  11001      1            3.0         Santa Fe   \n",
              "3   3004349.0    11  11001      1            1.0          Usaquén   \n",
              "4   3004350.0    11  11001      1            1.0          Usaquén   \n",
              "\n",
              "   COD_UPZ_GRUPO                        NOMBRE_UPZ_GRUPO  ESTRATO2021  \\\n",
              "0          814.0  SANTA FE: Las Nieves + Sagrado Corazón     11001187   \n",
              "1           37.0                            Santa Isabel     11001162   \n",
              "2          814.0  SANTA FE: Las Nieves + Sagrado Corazón     11001187   \n",
              "3          803.0   USAQUÉN: Country Club + Santa Bárbara     11001176   \n",
              "4          803.0   USAQUÉN: Country Club + Santa Bárbara     11001176   \n",
              "\n",
              "                           NOMBRE_ESTRATO             FEX_C  \n",
              "0  SANTA FE: Las Nieves + Sagrado Corazón  13,2266692027239  \n",
              "1                            Santa Isabel  17,8555889419101  \n",
              "2  SANTA FE: Las Nieves + Sagrado Corazón  10,0286103658331  \n",
              "3   USAQUÉN: Country Club + Santa Bárbara  28,6502122142802  \n",
              "4   USAQUÉN: Country Club + Santa Bárbara  24,4684068319009  "
            ],
            "text/html": [
              "\n",
              "  <div id=\"df-a00dcc6d-fd4a-41c9-ac3d-2393ee15fba3\">\n",
              "    <div class=\"colab-df-container\">\n",
              "      <div>\n",
              "<style scoped>\n",
              "    .dataframe tbody tr th:only-of-type {\n",
              "        vertical-align: middle;\n",
              "    }\n",
              "\n",
              "    .dataframe tbody tr th {\n",
              "        vertical-align: top;\n",
              "    }\n",
              "\n",
              "    .dataframe thead th {\n",
              "        text-align: right;\n",
              "    }\n",
              "</style>\n",
              "<table border=\"1\" class=\"dataframe\">\n",
              "  <thead>\n",
              "    <tr style=\"text-align: right;\">\n",
              "      <th></th>\n",
              "      <th>DIRECTORIO</th>\n",
              "      <th>DPTO</th>\n",
              "      <th>MPIO</th>\n",
              "      <th>CLASE</th>\n",
              "      <th>COD_LOCALIDAD</th>\n",
              "      <th>NOMBRE_LOCALIDAD</th>\n",
              "      <th>COD_UPZ_GRUPO</th>\n",
              "      <th>NOMBRE_UPZ_GRUPO</th>\n",
              "      <th>ESTRATO2021</th>\n",
              "      <th>NOMBRE_ESTRATO</th>\n",
              "      <th>FEX_C</th>\n",
              "    </tr>\n",
              "  </thead>\n",
              "  <tbody>\n",
              "    <tr>\n",
              "      <th>0</th>\n",
              "      <td>3004346.0</td>\n",
              "      <td>11</td>\n",
              "      <td>11001</td>\n",
              "      <td>1</td>\n",
              "      <td>3.0</td>\n",
              "      <td>Santa Fe</td>\n",
              "      <td>814.0</td>\n",
              "      <td>SANTA FE: Las Nieves + Sagrado Corazón</td>\n",
              "      <td>11001187</td>\n",
              "      <td>SANTA FE: Las Nieves + Sagrado Corazón</td>\n",
              "      <td>13,2266692027239</td>\n",
              "    </tr>\n",
              "    <tr>\n",
              "      <th>1</th>\n",
              "      <td>3004347.0</td>\n",
              "      <td>11</td>\n",
              "      <td>11001</td>\n",
              "      <td>1</td>\n",
              "      <td>14.0</td>\n",
              "      <td>Los Mártires</td>\n",
              "      <td>37.0</td>\n",
              "      <td>Santa Isabel</td>\n",
              "      <td>11001162</td>\n",
              "      <td>Santa Isabel</td>\n",
              "      <td>17,8555889419101</td>\n",
              "    </tr>\n",
              "    <tr>\n",
              "      <th>2</th>\n",
              "      <td>3004348.0</td>\n",
              "      <td>11</td>\n",
              "      <td>11001</td>\n",
              "      <td>1</td>\n",
              "      <td>3.0</td>\n",
              "      <td>Santa Fe</td>\n",
              "      <td>814.0</td>\n",
              "      <td>SANTA FE: Las Nieves + Sagrado Corazón</td>\n",
              "      <td>11001187</td>\n",
              "      <td>SANTA FE: Las Nieves + Sagrado Corazón</td>\n",
              "      <td>10,0286103658331</td>\n",
              "    </tr>\n",
              "    <tr>\n",
              "      <th>3</th>\n",
              "      <td>3004349.0</td>\n",
              "      <td>11</td>\n",
              "      <td>11001</td>\n",
              "      <td>1</td>\n",
              "      <td>1.0</td>\n",
              "      <td>Usaquén</td>\n",
              "      <td>803.0</td>\n",
              "      <td>USAQUÉN: Country Club + Santa Bárbara</td>\n",
              "      <td>11001176</td>\n",
              "      <td>USAQUÉN: Country Club + Santa Bárbara</td>\n",
              "      <td>28,6502122142802</td>\n",
              "    </tr>\n",
              "    <tr>\n",
              "      <th>4</th>\n",
              "      <td>3004350.0</td>\n",
              "      <td>11</td>\n",
              "      <td>11001</td>\n",
              "      <td>1</td>\n",
              "      <td>1.0</td>\n",
              "      <td>Usaquén</td>\n",
              "      <td>803.0</td>\n",
              "      <td>USAQUÉN: Country Club + Santa Bárbara</td>\n",
              "      <td>11001176</td>\n",
              "      <td>USAQUÉN: Country Club + Santa Bárbara</td>\n",
              "      <td>24,4684068319009</td>\n",
              "    </tr>\n",
              "  </tbody>\n",
              "</table>\n",
              "</div>\n",
              "      <button class=\"colab-df-convert\" onclick=\"convertToInteractive('df-a00dcc6d-fd4a-41c9-ac3d-2393ee15fba3')\"\n",
              "              title=\"Convert this dataframe to an interactive table.\"\n",
              "              style=\"display:none;\">\n",
              "        \n",
              "  <svg xmlns=\"http://www.w3.org/2000/svg\" height=\"24px\"viewBox=\"0 0 24 24\"\n",
              "       width=\"24px\">\n",
              "    <path d=\"M0 0h24v24H0V0z\" fill=\"none\"/>\n",
              "    <path d=\"M18.56 5.44l.94 2.06.94-2.06 2.06-.94-2.06-.94-.94-2.06-.94 2.06-2.06.94zm-11 1L8.5 8.5l.94-2.06 2.06-.94-2.06-.94L8.5 2.5l-.94 2.06-2.06.94zm10 10l.94 2.06.94-2.06 2.06-.94-2.06-.94-.94-2.06-.94 2.06-2.06.94z\"/><path d=\"M17.41 7.96l-1.37-1.37c-.4-.4-.92-.59-1.43-.59-.52 0-1.04.2-1.43.59L10.3 9.45l-7.72 7.72c-.78.78-.78 2.05 0 2.83L4 21.41c.39.39.9.59 1.41.59.51 0 1.02-.2 1.41-.59l7.78-7.78 2.81-2.81c.8-.78.8-2.07 0-2.86zM5.41 20L4 18.59l7.72-7.72 1.47 1.35L5.41 20z\"/>\n",
              "  </svg>\n",
              "      </button>\n",
              "      \n",
              "  <style>\n",
              "    .colab-df-container {\n",
              "      display:flex;\n",
              "      flex-wrap:wrap;\n",
              "      gap: 12px;\n",
              "    }\n",
              "\n",
              "    .colab-df-convert {\n",
              "      background-color: #E8F0FE;\n",
              "      border: none;\n",
              "      border-radius: 50%;\n",
              "      cursor: pointer;\n",
              "      display: none;\n",
              "      fill: #1967D2;\n",
              "      height: 32px;\n",
              "      padding: 0 0 0 0;\n",
              "      width: 32px;\n",
              "    }\n",
              "\n",
              "    .colab-df-convert:hover {\n",
              "      background-color: #E2EBFA;\n",
              "      box-shadow: 0px 1px 2px rgba(60, 64, 67, 0.3), 0px 1px 3px 1px rgba(60, 64, 67, 0.15);\n",
              "      fill: #174EA6;\n",
              "    }\n",
              "\n",
              "    [theme=dark] .colab-df-convert {\n",
              "      background-color: #3B4455;\n",
              "      fill: #D2E3FC;\n",
              "    }\n",
              "\n",
              "    [theme=dark] .colab-df-convert:hover {\n",
              "      background-color: #434B5C;\n",
              "      box-shadow: 0px 1px 3px 1px rgba(0, 0, 0, 0.15);\n",
              "      filter: drop-shadow(0px 1px 2px rgba(0, 0, 0, 0.3));\n",
              "      fill: #FFFFFF;\n",
              "    }\n",
              "  </style>\n",
              "\n",
              "      <script>\n",
              "        const buttonEl =\n",
              "          document.querySelector('#df-a00dcc6d-fd4a-41c9-ac3d-2393ee15fba3 button.colab-df-convert');\n",
              "        buttonEl.style.display =\n",
              "          google.colab.kernel.accessAllowed ? 'block' : 'none';\n",
              "\n",
              "        async function convertToInteractive(key) {\n",
              "          const element = document.querySelector('#df-a00dcc6d-fd4a-41c9-ac3d-2393ee15fba3');\n",
              "          const dataTable =\n",
              "            await google.colab.kernel.invokeFunction('convertToInteractive',\n",
              "                                                     [key], {});\n",
              "          if (!dataTable) return;\n",
              "\n",
              "          const docLinkHtml = 'Like what you see? Visit the ' +\n",
              "            '<a target=\"_blank\" href=https://colab.research.google.com/notebooks/data_table.ipynb>data table notebook</a>'\n",
              "            + ' to learn more about interactive tables.';\n",
              "          element.innerHTML = '';\n",
              "          dataTable['output_type'] = 'display_data';\n",
              "          await google.colab.output.renderOutput(dataTable, element);\n",
              "          const docLink = document.createElement('div');\n",
              "          docLink.innerHTML = docLinkHtml;\n",
              "          element.appendChild(docLink);\n",
              "        }\n",
              "      </script>\n",
              "    </div>\n",
              "  </div>\n",
              "  "
            ]
          },
          "metadata": {},
          "execution_count": 2
        }
      ]
    },
    {
      "cell_type": "markdown",
      "source": [
        "### Contar los registros"
      ],
      "metadata": {
        "id": "qoUlKXHjpY1c"
      }
    },
    {
      "cell_type": "code",
      "source": [
        "datos_raw.shape"
      ],
      "metadata": {
        "id": "9qIFhWlKlGpE",
        "colab": {
          "base_uri": "https://localhost:8080/"
        },
        "outputId": "fde320df-76d4-43b1-990c-3196405ee063"
      },
      "execution_count": 3,
      "outputs": [
        {
          "output_type": "execute_result",
          "data": {
            "text/plain": [
              "(106467, 11)"
            ]
          },
          "metadata": {},
          "execution_count": 3
        }
      ]
    },
    {
      "cell_type": "markdown",
      "source": [
        "### Extrayendo solo del municipio de Bogotá"
      ],
      "metadata": {
        "id": "Lbtvjl-DqD1c"
      }
    },
    {
      "cell_type": "code",
      "source": [
        "datos_raw = datos_raw.loc[datos_raw.MPIO == 11001]\n",
        "datos_raw.shape"
      ],
      "metadata": {
        "colab": {
          "base_uri": "https://localhost:8080/"
        },
        "id": "w7tG9OT7pcPV",
        "outputId": "43fab3ad-e606-40ec-c153-1530fd0ef76f"
      },
      "execution_count": 4,
      "outputs": [
        {
          "output_type": "execute_result",
          "data": {
            "text/plain": [
              "(86504, 11)"
            ]
          },
          "metadata": {},
          "execution_count": 4
        }
      ]
    },
    {
      "cell_type": "markdown",
      "source": [
        "### Carga otro archivo con información relacionada"
      ],
      "metadata": {
        "id": "2yKem7nYrzb0"
      }
    },
    {
      "cell_type": "code",
      "source": [
        "datos_b = pd.read_csv('/content/drive/MyDrive/Colab Notebooks/Datos de la vivenda y su entorno (Capítulo B).csv', sep=';', encoding='latin-1')"
      ],
      "metadata": {
        "id": "9ViWEWaZpvhV"
      },
      "execution_count": 5,
      "outputs": []
    },
    {
      "cell_type": "markdown",
      "source": [
        "### Información cargada en datos_b"
      ],
      "metadata": {
        "id": "nWYALI5Or5n0"
      }
    },
    {
      "cell_type": "code",
      "source": [
        "datos_b.head(5)"
      ],
      "metadata": {
        "colab": {
          "base_uri": "https://localhost:8080/",
          "height": 299
        },
        "id": "OHXZjBY3sEwZ",
        "outputId": "75a060a3-ffd2-4f3d-f64a-4426f492ba17"
      },
      "execution_count": 6,
      "outputs": [
        {
          "output_type": "execute_result",
          "data": {
            "text/plain": [
              "   DIRECTORIO  NVCBP1  NVCBP2  NVCBP3  NVCBP4  NVCBP5  NVCBP6  NVCBP7  \\\n",
              "0   3005117.0       4     1.0       1       1       1      12     1.0   \n",
              "1   3005118.0       2     1.0       1       2       1       5     2.0   \n",
              "2   3005119.0       1     NaN       1       2       1       1     NaN   \n",
              "3   3005120.0       2     1.0       1       1       1       8     1.0   \n",
              "4   3005121.0       4     1.0       1       2       1       6     2.0   \n",
              "\n",
              "   NVCBP8A  NVCBP8B  ...  NVCBP15J  NVCBP15K  NVCBP15L  NVCBP15M  NVCBP16A1  \\\n",
              "0        2        2  ...         2         2         2         2          1   \n",
              "1        2        2  ...         2         2         2         2          1   \n",
              "2        2        2  ...         2         2         2         2          2   \n",
              "3        2        2  ...         2         2         2         2          1   \n",
              "4        1        2  ...         2         2         2         2          1   \n",
              "\n",
              "   NVCBP16A2  NVCBP16A3  NVCBP16A4  NVCBP16             FEX_C  \n",
              "0          1          1          1        1  19,5771388808791  \n",
              "1          1          1          1        1  11,3314401226775  \n",
              "2          2          2          2        1  5,67151636864259  \n",
              "3          1          1          1        1  5,47075697554425  \n",
              "4          1          1          1        1  16,8447673879615  \n",
              "\n",
              "[5 rows x 63 columns]"
            ],
            "text/html": [
              "\n",
              "  <div id=\"df-059dc2e3-0c2c-4f05-85fe-fe25b9e76a94\">\n",
              "    <div class=\"colab-df-container\">\n",
              "      <div>\n",
              "<style scoped>\n",
              "    .dataframe tbody tr th:only-of-type {\n",
              "        vertical-align: middle;\n",
              "    }\n",
              "\n",
              "    .dataframe tbody tr th {\n",
              "        vertical-align: top;\n",
              "    }\n",
              "\n",
              "    .dataframe thead th {\n",
              "        text-align: right;\n",
              "    }\n",
              "</style>\n",
              "<table border=\"1\" class=\"dataframe\">\n",
              "  <thead>\n",
              "    <tr style=\"text-align: right;\">\n",
              "      <th></th>\n",
              "      <th>DIRECTORIO</th>\n",
              "      <th>NVCBP1</th>\n",
              "      <th>NVCBP2</th>\n",
              "      <th>NVCBP3</th>\n",
              "      <th>NVCBP4</th>\n",
              "      <th>NVCBP5</th>\n",
              "      <th>NVCBP6</th>\n",
              "      <th>NVCBP7</th>\n",
              "      <th>NVCBP8A</th>\n",
              "      <th>NVCBP8B</th>\n",
              "      <th>...</th>\n",
              "      <th>NVCBP15J</th>\n",
              "      <th>NVCBP15K</th>\n",
              "      <th>NVCBP15L</th>\n",
              "      <th>NVCBP15M</th>\n",
              "      <th>NVCBP16A1</th>\n",
              "      <th>NVCBP16A2</th>\n",
              "      <th>NVCBP16A3</th>\n",
              "      <th>NVCBP16A4</th>\n",
              "      <th>NVCBP16</th>\n",
              "      <th>FEX_C</th>\n",
              "    </tr>\n",
              "  </thead>\n",
              "  <tbody>\n",
              "    <tr>\n",
              "      <th>0</th>\n",
              "      <td>3005117.0</td>\n",
              "      <td>4</td>\n",
              "      <td>1.0</td>\n",
              "      <td>1</td>\n",
              "      <td>1</td>\n",
              "      <td>1</td>\n",
              "      <td>12</td>\n",
              "      <td>1.0</td>\n",
              "      <td>2</td>\n",
              "      <td>2</td>\n",
              "      <td>...</td>\n",
              "      <td>2</td>\n",
              "      <td>2</td>\n",
              "      <td>2</td>\n",
              "      <td>2</td>\n",
              "      <td>1</td>\n",
              "      <td>1</td>\n",
              "      <td>1</td>\n",
              "      <td>1</td>\n",
              "      <td>1</td>\n",
              "      <td>19,5771388808791</td>\n",
              "    </tr>\n",
              "    <tr>\n",
              "      <th>1</th>\n",
              "      <td>3005118.0</td>\n",
              "      <td>2</td>\n",
              "      <td>1.0</td>\n",
              "      <td>1</td>\n",
              "      <td>2</td>\n",
              "      <td>1</td>\n",
              "      <td>5</td>\n",
              "      <td>2.0</td>\n",
              "      <td>2</td>\n",
              "      <td>2</td>\n",
              "      <td>...</td>\n",
              "      <td>2</td>\n",
              "      <td>2</td>\n",
              "      <td>2</td>\n",
              "      <td>2</td>\n",
              "      <td>1</td>\n",
              "      <td>1</td>\n",
              "      <td>1</td>\n",
              "      <td>1</td>\n",
              "      <td>1</td>\n",
              "      <td>11,3314401226775</td>\n",
              "    </tr>\n",
              "    <tr>\n",
              "      <th>2</th>\n",
              "      <td>3005119.0</td>\n",
              "      <td>1</td>\n",
              "      <td>NaN</td>\n",
              "      <td>1</td>\n",
              "      <td>2</td>\n",
              "      <td>1</td>\n",
              "      <td>1</td>\n",
              "      <td>NaN</td>\n",
              "      <td>2</td>\n",
              "      <td>2</td>\n",
              "      <td>...</td>\n",
              "      <td>2</td>\n",
              "      <td>2</td>\n",
              "      <td>2</td>\n",
              "      <td>2</td>\n",
              "      <td>2</td>\n",
              "      <td>2</td>\n",
              "      <td>2</td>\n",
              "      <td>2</td>\n",
              "      <td>1</td>\n",
              "      <td>5,67151636864259</td>\n",
              "    </tr>\n",
              "    <tr>\n",
              "      <th>3</th>\n",
              "      <td>3005120.0</td>\n",
              "      <td>2</td>\n",
              "      <td>1.0</td>\n",
              "      <td>1</td>\n",
              "      <td>1</td>\n",
              "      <td>1</td>\n",
              "      <td>8</td>\n",
              "      <td>1.0</td>\n",
              "      <td>2</td>\n",
              "      <td>2</td>\n",
              "      <td>...</td>\n",
              "      <td>2</td>\n",
              "      <td>2</td>\n",
              "      <td>2</td>\n",
              "      <td>2</td>\n",
              "      <td>1</td>\n",
              "      <td>1</td>\n",
              "      <td>1</td>\n",
              "      <td>1</td>\n",
              "      <td>1</td>\n",
              "      <td>5,47075697554425</td>\n",
              "    </tr>\n",
              "    <tr>\n",
              "      <th>4</th>\n",
              "      <td>3005121.0</td>\n",
              "      <td>4</td>\n",
              "      <td>1.0</td>\n",
              "      <td>1</td>\n",
              "      <td>2</td>\n",
              "      <td>1</td>\n",
              "      <td>6</td>\n",
              "      <td>2.0</td>\n",
              "      <td>1</td>\n",
              "      <td>2</td>\n",
              "      <td>...</td>\n",
              "      <td>2</td>\n",
              "      <td>2</td>\n",
              "      <td>2</td>\n",
              "      <td>2</td>\n",
              "      <td>1</td>\n",
              "      <td>1</td>\n",
              "      <td>1</td>\n",
              "      <td>1</td>\n",
              "      <td>1</td>\n",
              "      <td>16,8447673879615</td>\n",
              "    </tr>\n",
              "  </tbody>\n",
              "</table>\n",
              "<p>5 rows × 63 columns</p>\n",
              "</div>\n",
              "      <button class=\"colab-df-convert\" onclick=\"convertToInteractive('df-059dc2e3-0c2c-4f05-85fe-fe25b9e76a94')\"\n",
              "              title=\"Convert this dataframe to an interactive table.\"\n",
              "              style=\"display:none;\">\n",
              "        \n",
              "  <svg xmlns=\"http://www.w3.org/2000/svg\" height=\"24px\"viewBox=\"0 0 24 24\"\n",
              "       width=\"24px\">\n",
              "    <path d=\"M0 0h24v24H0V0z\" fill=\"none\"/>\n",
              "    <path d=\"M18.56 5.44l.94 2.06.94-2.06 2.06-.94-2.06-.94-.94-2.06-.94 2.06-2.06.94zm-11 1L8.5 8.5l.94-2.06 2.06-.94-2.06-.94L8.5 2.5l-.94 2.06-2.06.94zm10 10l.94 2.06.94-2.06 2.06-.94-2.06-.94-.94-2.06-.94 2.06-2.06.94z\"/><path d=\"M17.41 7.96l-1.37-1.37c-.4-.4-.92-.59-1.43-.59-.52 0-1.04.2-1.43.59L10.3 9.45l-7.72 7.72c-.78.78-.78 2.05 0 2.83L4 21.41c.39.39.9.59 1.41.59.51 0 1.02-.2 1.41-.59l7.78-7.78 2.81-2.81c.8-.78.8-2.07 0-2.86zM5.41 20L4 18.59l7.72-7.72 1.47 1.35L5.41 20z\"/>\n",
              "  </svg>\n",
              "      </button>\n",
              "      \n",
              "  <style>\n",
              "    .colab-df-container {\n",
              "      display:flex;\n",
              "      flex-wrap:wrap;\n",
              "      gap: 12px;\n",
              "    }\n",
              "\n",
              "    .colab-df-convert {\n",
              "      background-color: #E8F0FE;\n",
              "      border: none;\n",
              "      border-radius: 50%;\n",
              "      cursor: pointer;\n",
              "      display: none;\n",
              "      fill: #1967D2;\n",
              "      height: 32px;\n",
              "      padding: 0 0 0 0;\n",
              "      width: 32px;\n",
              "    }\n",
              "\n",
              "    .colab-df-convert:hover {\n",
              "      background-color: #E2EBFA;\n",
              "      box-shadow: 0px 1px 2px rgba(60, 64, 67, 0.3), 0px 1px 3px 1px rgba(60, 64, 67, 0.15);\n",
              "      fill: #174EA6;\n",
              "    }\n",
              "\n",
              "    [theme=dark] .colab-df-convert {\n",
              "      background-color: #3B4455;\n",
              "      fill: #D2E3FC;\n",
              "    }\n",
              "\n",
              "    [theme=dark] .colab-df-convert:hover {\n",
              "      background-color: #434B5C;\n",
              "      box-shadow: 0px 1px 3px 1px rgba(0, 0, 0, 0.15);\n",
              "      filter: drop-shadow(0px 1px 2px rgba(0, 0, 0, 0.3));\n",
              "      fill: #FFFFFF;\n",
              "    }\n",
              "  </style>\n",
              "\n",
              "      <script>\n",
              "        const buttonEl =\n",
              "          document.querySelector('#df-059dc2e3-0c2c-4f05-85fe-fe25b9e76a94 button.colab-df-convert');\n",
              "        buttonEl.style.display =\n",
              "          google.colab.kernel.accessAllowed ? 'block' : 'none';\n",
              "\n",
              "        async function convertToInteractive(key) {\n",
              "          const element = document.querySelector('#df-059dc2e3-0c2c-4f05-85fe-fe25b9e76a94');\n",
              "          const dataTable =\n",
              "            await google.colab.kernel.invokeFunction('convertToInteractive',\n",
              "                                                     [key], {});\n",
              "          if (!dataTable) return;\n",
              "\n",
              "          const docLinkHtml = 'Like what you see? Visit the ' +\n",
              "            '<a target=\"_blank\" href=https://colab.research.google.com/notebooks/data_table.ipynb>data table notebook</a>'\n",
              "            + ' to learn more about interactive tables.';\n",
              "          element.innerHTML = '';\n",
              "          dataTable['output_type'] = 'display_data';\n",
              "          await google.colab.output.renderOutput(dataTable, element);\n",
              "          const docLink = document.createElement('div');\n",
              "          docLink.innerHTML = docLinkHtml;\n",
              "          element.appendChild(docLink);\n",
              "        }\n",
              "      </script>\n",
              "    </div>\n",
              "  </div>\n",
              "  "
            ]
          },
          "metadata": {},
          "execution_count": 6
        }
      ]
    },
    {
      "cell_type": "markdown",
      "source": [
        "### Merge de la información obtenida con la primer carga (datos_raw)\n",
        "Haciendo una especie de left join\n",
        "pivote el campo DIRECTORIO"
      ],
      "metadata": {
        "id": "hLYmuXNktlk9"
      }
    },
    {
      "cell_type": "code",
      "source": [
        "datos_dane = pd.merge(datos_raw, datos_b,on='DIRECTORIO', how='left')\n",
        "datos_dane.shape"
      ],
      "metadata": {
        "colab": {
          "base_uri": "https://localhost:8080/"
        },
        "id": "GHwBmt5GtW9v",
        "outputId": "52c4dbff-f180-46c0-e4ab-d6df51085052"
      },
      "execution_count": 7,
      "outputs": [
        {
          "output_type": "execute_result",
          "data": {
            "text/plain": [
              "(86504, 73)"
            ]
          },
          "metadata": {},
          "execution_count": 7
        }
      ]
    },
    {
      "cell_type": "markdown",
      "source": [
        "### Verificando la información total cargada\n",
        "NOTA: validar siempre la memory usage: 48.8+ MB"
      ],
      "metadata": {
        "id": "vkWgdIhbvMGd"
      }
    },
    {
      "cell_type": "code",
      "source": [
        "datos_dane.info()"
      ],
      "metadata": {
        "colab": {
          "base_uri": "https://localhost:8080/"
        },
        "id": "5UvbD9XRt5L3",
        "outputId": "20767f9f-a64f-472f-a0f3-021fb431fa2a"
      },
      "execution_count": 8,
      "outputs": [
        {
          "output_type": "stream",
          "name": "stdout",
          "text": [
            "<class 'pandas.core.frame.DataFrame'>\n",
            "Int64Index: 86504 entries, 0 to 86503\n",
            "Data columns (total 73 columns):\n",
            " #   Column            Non-Null Count  Dtype  \n",
            "---  ------            --------------  -----  \n",
            " 0   DIRECTORIO        86504 non-null  float64\n",
            " 1   DPTO              86504 non-null  int64  \n",
            " 2   MPIO              86504 non-null  int64  \n",
            " 3   CLASE             86504 non-null  int64  \n",
            " 4   COD_LOCALIDAD     86504 non-null  float64\n",
            " 5   NOMBRE_LOCALIDAD  86504 non-null  object \n",
            " 6   COD_UPZ_GRUPO     83736 non-null  float64\n",
            " 7   NOMBRE_UPZ_GRUPO  83736 non-null  object \n",
            " 8   ESTRATO2021       86504 non-null  int64  \n",
            " 9   NOMBRE_ESTRATO    86504 non-null  object \n",
            " 10  FEX_C_x           86504 non-null  object \n",
            " 11  NVCBP1            86504 non-null  int64  \n",
            " 12  NVCBP2            78357 non-null  float64\n",
            " 13  NVCBP3            86504 non-null  int64  \n",
            " 14  NVCBP4            86504 non-null  int64  \n",
            " 15  NVCBP5            86504 non-null  int64  \n",
            " 16  NVCBP6            86504 non-null  int64  \n",
            " 17  NVCBP7            35631 non-null  float64\n",
            " 18  NVCBP8A           86504 non-null  int64  \n",
            " 19  NVCBP8B           86504 non-null  int64  \n",
            " 20  NVCBP8C           86504 non-null  int64  \n",
            " 21  NVCBP8D           86504 non-null  int64  \n",
            " 22  NVCBP8E           86504 non-null  int64  \n",
            " 23  NVCBP8F           86504 non-null  int64  \n",
            " 24  NVCBP8G           86504 non-null  int64  \n",
            " 25  NVCBP8H           86504 non-null  int64  \n",
            " 26  NVCBP8I           86504 non-null  int64  \n",
            " 27  NVCBP8J           86504 non-null  int64  \n",
            " 28  NVCBP9            86504 non-null  int64  \n",
            " 29  NVCBP9A1          3374 non-null   float64\n",
            " 30  NVCBP9A2          3374 non-null   float64\n",
            " 31  NVCBP9A3          3374 non-null   float64\n",
            " 32  NVCBP9A4          3374 non-null   float64\n",
            " 33  NVCBP10           86504 non-null  int64  \n",
            " 34  NVCBP11A          86504 non-null  int64  \n",
            " 35  NVCBP11AA         86304 non-null  float64\n",
            " 36  NVCBP11B          86504 non-null  int64  \n",
            " 37  NVCBP11C          86504 non-null  int64  \n",
            " 38  NVCBP11D          86504 non-null  int64  \n",
            " 39  NVCBP11DA         85352 non-null  float64\n",
            " 40  NVCBP12           86504 non-null  int64  \n",
            " 41  NVCBP13           86504 non-null  int64  \n",
            " 42  NVCBP14A          86504 non-null  int64  \n",
            " 43  NVCBP14B          86504 non-null  int64  \n",
            " 44  NVCBP14C          86504 non-null  int64  \n",
            " 45  NVCBP14D          86504 non-null  int64  \n",
            " 46  NVCBP14E          86504 non-null  int64  \n",
            " 47  NVCBP14L          86504 non-null  int64  \n",
            " 48  NVCBP14F          86504 non-null  int64  \n",
            " 49  NVCBP14G          86504 non-null  int64  \n",
            " 50  NVCBP14H          86504 non-null  int64  \n",
            " 51  NVCBP14I          86504 non-null  int64  \n",
            " 52  NVCBP14J          86504 non-null  int64  \n",
            " 53  NVCBP14K          86504 non-null  int64  \n",
            " 54  NVCBP15A          86504 non-null  int64  \n",
            " 55  NVCBP15B          86504 non-null  int64  \n",
            " 56  NVCBP15C          86504 non-null  int64  \n",
            " 57  NVCBP15D          86504 non-null  int64  \n",
            " 58  NVCBP15E          86504 non-null  int64  \n",
            " 59  NVCBP15F          86504 non-null  int64  \n",
            " 60  NVCBP15G          86504 non-null  int64  \n",
            " 61  NVCBP15H          86504 non-null  int64  \n",
            " 62  NVCBP15I          86504 non-null  int64  \n",
            " 63  NVCBP15J          86504 non-null  int64  \n",
            " 64  NVCBP15K          86504 non-null  int64  \n",
            " 65  NVCBP15L          86504 non-null  int64  \n",
            " 66  NVCBP15M          86504 non-null  int64  \n",
            " 67  NVCBP16A1         86504 non-null  int64  \n",
            " 68  NVCBP16A2         86504 non-null  int64  \n",
            " 69  NVCBP16A3         86504 non-null  int64  \n",
            " 70  NVCBP16A4         86504 non-null  int64  \n",
            " 71  NVCBP16           86504 non-null  int64  \n",
            " 72  FEX_C_y           86504 non-null  object \n",
            "dtypes: float64(11), int64(57), object(5)\n",
            "memory usage: 48.8+ MB\n"
          ]
        }
      ]
    },
    {
      "cell_type": "markdown",
      "source": [
        "### Desafio\n",
        "\n",
        "1. Dar un vistazo a la base de datos del DANE, entender estas variables conceptualmente para entender mejor el contexto de esta base.\n",
        "2. Organizar tu notebook para que tu proyecto quede mejor presentado."
      ],
      "metadata": {
        "id": "QRmBWbDLzjdc"
      }
    },
    {
      "cell_type": "markdown",
      "source": [
        "## Aula 4"
      ],
      "metadata": {
        "id": "SFvlclAE6I3N"
      }
    },
    {
      "cell_type": "markdown",
      "source": [
        "### Carga archivo depurado de info DANE"
      ],
      "metadata": {
        "id": "RtnzZ15f6M5V"
      }
    },
    {
      "cell_type": "code",
      "source": [
        "datos_dane = pd.read_csv('/content/drive/MyDrive/Colab Notebooks/datos_dane.csv')\n",
        "\n",
        "datos_dane.head()"
      ],
      "metadata": {
        "colab": {
          "base_uri": "https://localhost:8080/",
          "height": 403
        },
        "id": "prAumIuLvRXi",
        "outputId": "7e41d364-ff2c-48fb-cef3-03f504ca5e1b"
      },
      "execution_count": 9,
      "outputs": [
        {
          "output_type": "execute_result",
          "data": {
            "text/plain": [
              "   DIRECTORIO NOMBRE_LOCALIDAD                                 NOMBRE_ESTRATO  \\\n",
              "0   3004368.0          Usaquén  USAQUÉN: Paseo de Los Libertadores + La Uribe   \n",
              "1   3004369.0          Usaquén                                        Usaquén   \n",
              "2   3004375.0        Chapinero             CHAPINERO: Pardo Rubio + Chapinero   \n",
              "3   3004380.0          Usaquén                                     Los Cedros   \n",
              "4   3004383.0         Fontibón                      Ciudad Salitre Occidental   \n",
              "\n",
              "   NVCBP4  NVCBP14A  NVCBP14D  NVCBP14E  NVCBP14G  NVCBP15A  NVCBP15C  ...  \\\n",
              "0       1         2         2         2         2         2         2  ...   \n",
              "1       1         2         2         2         2         2         2  ...   \n",
              "2       2         2         2         2         2         2         1  ...   \n",
              "3       1         2         2         2         2         2         2  ...   \n",
              "4       1         2         2         2         2         1         2  ...   \n",
              "\n",
              "   NHCLP5  NHCLP8AB  NHCLP8AE  NHCLP10  NHCLP11  NHCLP29_1A  NHCLP29_1C  \\\n",
              "0       1       NaN       NaN        2        2         NaN         NaN   \n",
              "1       2       NaN       NaN        3        2         NaN         NaN   \n",
              "2       2       NaN       NaN        2        2         NaN         NaN   \n",
              "3       1       NaN       NaN        3        2         NaN         NaN   \n",
              "4       2       NaN       NaN        2        2         NaN         NaN   \n",
              "\n",
              "   NHCLP29_1E  NHCLP29_1F  NPCHP4  \n",
              "0         NaN         NaN     9.0  \n",
              "1         NaN         NaN    11.0  \n",
              "2         1.0         NaN    11.0  \n",
              "3         NaN         NaN     9.0  \n",
              "4         NaN         NaN    11.0  \n",
              "\n",
              "[5 rows x 55 columns]"
            ],
            "text/html": [
              "\n",
              "  <div id=\"df-ee0ac38c-420f-404b-ba70-2417991b2423\">\n",
              "    <div class=\"colab-df-container\">\n",
              "      <div>\n",
              "<style scoped>\n",
              "    .dataframe tbody tr th:only-of-type {\n",
              "        vertical-align: middle;\n",
              "    }\n",
              "\n",
              "    .dataframe tbody tr th {\n",
              "        vertical-align: top;\n",
              "    }\n",
              "\n",
              "    .dataframe thead th {\n",
              "        text-align: right;\n",
              "    }\n",
              "</style>\n",
              "<table border=\"1\" class=\"dataframe\">\n",
              "  <thead>\n",
              "    <tr style=\"text-align: right;\">\n",
              "      <th></th>\n",
              "      <th>DIRECTORIO</th>\n",
              "      <th>NOMBRE_LOCALIDAD</th>\n",
              "      <th>NOMBRE_ESTRATO</th>\n",
              "      <th>NVCBP4</th>\n",
              "      <th>NVCBP14A</th>\n",
              "      <th>NVCBP14D</th>\n",
              "      <th>NVCBP14E</th>\n",
              "      <th>NVCBP14G</th>\n",
              "      <th>NVCBP15A</th>\n",
              "      <th>NVCBP15C</th>\n",
              "      <th>...</th>\n",
              "      <th>NHCLP5</th>\n",
              "      <th>NHCLP8AB</th>\n",
              "      <th>NHCLP8AE</th>\n",
              "      <th>NHCLP10</th>\n",
              "      <th>NHCLP11</th>\n",
              "      <th>NHCLP29_1A</th>\n",
              "      <th>NHCLP29_1C</th>\n",
              "      <th>NHCLP29_1E</th>\n",
              "      <th>NHCLP29_1F</th>\n",
              "      <th>NPCHP4</th>\n",
              "    </tr>\n",
              "  </thead>\n",
              "  <tbody>\n",
              "    <tr>\n",
              "      <th>0</th>\n",
              "      <td>3004368.0</td>\n",
              "      <td>Usaquén</td>\n",
              "      <td>USAQUÉN: Paseo de Los Libertadores + La Uribe</td>\n",
              "      <td>1</td>\n",
              "      <td>2</td>\n",
              "      <td>2</td>\n",
              "      <td>2</td>\n",
              "      <td>2</td>\n",
              "      <td>2</td>\n",
              "      <td>2</td>\n",
              "      <td>...</td>\n",
              "      <td>1</td>\n",
              "      <td>NaN</td>\n",
              "      <td>NaN</td>\n",
              "      <td>2</td>\n",
              "      <td>2</td>\n",
              "      <td>NaN</td>\n",
              "      <td>NaN</td>\n",
              "      <td>NaN</td>\n",
              "      <td>NaN</td>\n",
              "      <td>9.0</td>\n",
              "    </tr>\n",
              "    <tr>\n",
              "      <th>1</th>\n",
              "      <td>3004369.0</td>\n",
              "      <td>Usaquén</td>\n",
              "      <td>Usaquén</td>\n",
              "      <td>1</td>\n",
              "      <td>2</td>\n",
              "      <td>2</td>\n",
              "      <td>2</td>\n",
              "      <td>2</td>\n",
              "      <td>2</td>\n",
              "      <td>2</td>\n",
              "      <td>...</td>\n",
              "      <td>2</td>\n",
              "      <td>NaN</td>\n",
              "      <td>NaN</td>\n",
              "      <td>3</td>\n",
              "      <td>2</td>\n",
              "      <td>NaN</td>\n",
              "      <td>NaN</td>\n",
              "      <td>NaN</td>\n",
              "      <td>NaN</td>\n",
              "      <td>11.0</td>\n",
              "    </tr>\n",
              "    <tr>\n",
              "      <th>2</th>\n",
              "      <td>3004375.0</td>\n",
              "      <td>Chapinero</td>\n",
              "      <td>CHAPINERO: Pardo Rubio + Chapinero</td>\n",
              "      <td>2</td>\n",
              "      <td>2</td>\n",
              "      <td>2</td>\n",
              "      <td>2</td>\n",
              "      <td>2</td>\n",
              "      <td>2</td>\n",
              "      <td>1</td>\n",
              "      <td>...</td>\n",
              "      <td>2</td>\n",
              "      <td>NaN</td>\n",
              "      <td>NaN</td>\n",
              "      <td>2</td>\n",
              "      <td>2</td>\n",
              "      <td>NaN</td>\n",
              "      <td>NaN</td>\n",
              "      <td>1.0</td>\n",
              "      <td>NaN</td>\n",
              "      <td>11.0</td>\n",
              "    </tr>\n",
              "    <tr>\n",
              "      <th>3</th>\n",
              "      <td>3004380.0</td>\n",
              "      <td>Usaquén</td>\n",
              "      <td>Los Cedros</td>\n",
              "      <td>1</td>\n",
              "      <td>2</td>\n",
              "      <td>2</td>\n",
              "      <td>2</td>\n",
              "      <td>2</td>\n",
              "      <td>2</td>\n",
              "      <td>2</td>\n",
              "      <td>...</td>\n",
              "      <td>1</td>\n",
              "      <td>NaN</td>\n",
              "      <td>NaN</td>\n",
              "      <td>3</td>\n",
              "      <td>2</td>\n",
              "      <td>NaN</td>\n",
              "      <td>NaN</td>\n",
              "      <td>NaN</td>\n",
              "      <td>NaN</td>\n",
              "      <td>9.0</td>\n",
              "    </tr>\n",
              "    <tr>\n",
              "      <th>4</th>\n",
              "      <td>3004383.0</td>\n",
              "      <td>Fontibón</td>\n",
              "      <td>Ciudad Salitre Occidental</td>\n",
              "      <td>1</td>\n",
              "      <td>2</td>\n",
              "      <td>2</td>\n",
              "      <td>2</td>\n",
              "      <td>2</td>\n",
              "      <td>1</td>\n",
              "      <td>2</td>\n",
              "      <td>...</td>\n",
              "      <td>2</td>\n",
              "      <td>NaN</td>\n",
              "      <td>NaN</td>\n",
              "      <td>2</td>\n",
              "      <td>2</td>\n",
              "      <td>NaN</td>\n",
              "      <td>NaN</td>\n",
              "      <td>NaN</td>\n",
              "      <td>NaN</td>\n",
              "      <td>11.0</td>\n",
              "    </tr>\n",
              "  </tbody>\n",
              "</table>\n",
              "<p>5 rows × 55 columns</p>\n",
              "</div>\n",
              "      <button class=\"colab-df-convert\" onclick=\"convertToInteractive('df-ee0ac38c-420f-404b-ba70-2417991b2423')\"\n",
              "              title=\"Convert this dataframe to an interactive table.\"\n",
              "              style=\"display:none;\">\n",
              "        \n",
              "  <svg xmlns=\"http://www.w3.org/2000/svg\" height=\"24px\"viewBox=\"0 0 24 24\"\n",
              "       width=\"24px\">\n",
              "    <path d=\"M0 0h24v24H0V0z\" fill=\"none\"/>\n",
              "    <path d=\"M18.56 5.44l.94 2.06.94-2.06 2.06-.94-2.06-.94-.94-2.06-.94 2.06-2.06.94zm-11 1L8.5 8.5l.94-2.06 2.06-.94-2.06-.94L8.5 2.5l-.94 2.06-2.06.94zm10 10l.94 2.06.94-2.06 2.06-.94-2.06-.94-.94-2.06-.94 2.06-2.06.94z\"/><path d=\"M17.41 7.96l-1.37-1.37c-.4-.4-.92-.59-1.43-.59-.52 0-1.04.2-1.43.59L10.3 9.45l-7.72 7.72c-.78.78-.78 2.05 0 2.83L4 21.41c.39.39.9.59 1.41.59.51 0 1.02-.2 1.41-.59l7.78-7.78 2.81-2.81c.8-.78.8-2.07 0-2.86zM5.41 20L4 18.59l7.72-7.72 1.47 1.35L5.41 20z\"/>\n",
              "  </svg>\n",
              "      </button>\n",
              "      \n",
              "  <style>\n",
              "    .colab-df-container {\n",
              "      display:flex;\n",
              "      flex-wrap:wrap;\n",
              "      gap: 12px;\n",
              "    }\n",
              "\n",
              "    .colab-df-convert {\n",
              "      background-color: #E8F0FE;\n",
              "      border: none;\n",
              "      border-radius: 50%;\n",
              "      cursor: pointer;\n",
              "      display: none;\n",
              "      fill: #1967D2;\n",
              "      height: 32px;\n",
              "      padding: 0 0 0 0;\n",
              "      width: 32px;\n",
              "    }\n",
              "\n",
              "    .colab-df-convert:hover {\n",
              "      background-color: #E2EBFA;\n",
              "      box-shadow: 0px 1px 2px rgba(60, 64, 67, 0.3), 0px 1px 3px 1px rgba(60, 64, 67, 0.15);\n",
              "      fill: #174EA6;\n",
              "    }\n",
              "\n",
              "    [theme=dark] .colab-df-convert {\n",
              "      background-color: #3B4455;\n",
              "      fill: #D2E3FC;\n",
              "    }\n",
              "\n",
              "    [theme=dark] .colab-df-convert:hover {\n",
              "      background-color: #434B5C;\n",
              "      box-shadow: 0px 1px 3px 1px rgba(0, 0, 0, 0.15);\n",
              "      filter: drop-shadow(0px 1px 2px rgba(0, 0, 0, 0.3));\n",
              "      fill: #FFFFFF;\n",
              "    }\n",
              "  </style>\n",
              "\n",
              "      <script>\n",
              "        const buttonEl =\n",
              "          document.querySelector('#df-ee0ac38c-420f-404b-ba70-2417991b2423 button.colab-df-convert');\n",
              "        buttonEl.style.display =\n",
              "          google.colab.kernel.accessAllowed ? 'block' : 'none';\n",
              "\n",
              "        async function convertToInteractive(key) {\n",
              "          const element = document.querySelector('#df-ee0ac38c-420f-404b-ba70-2417991b2423');\n",
              "          const dataTable =\n",
              "            await google.colab.kernel.invokeFunction('convertToInteractive',\n",
              "                                                     [key], {});\n",
              "          if (!dataTable) return;\n",
              "\n",
              "          const docLinkHtml = 'Like what you see? Visit the ' +\n",
              "            '<a target=\"_blank\" href=https://colab.research.google.com/notebooks/data_table.ipynb>data table notebook</a>'\n",
              "            + ' to learn more about interactive tables.';\n",
              "          element.innerHTML = '';\n",
              "          dataTable['output_type'] = 'display_data';\n",
              "          await google.colab.output.renderOutput(dataTable, element);\n",
              "          const docLink = document.createElement('div');\n",
              "          docLink.innerHTML = docLinkHtml;\n",
              "          element.appendChild(docLink);\n",
              "        }\n",
              "      </script>\n",
              "    </div>\n",
              "  </div>\n",
              "  "
            ]
          },
          "metadata": {},
          "execution_count": 9
        }
      ]
    },
    {
      "cell_type": "markdown",
      "source": [
        "### Cantidad de registros"
      ],
      "metadata": {
        "id": "jUZBm3Ae6unN"
      }
    },
    {
      "cell_type": "code",
      "source": [
        "datos_dane.shape"
      ],
      "metadata": {
        "id": "sb34UTbW6w4d",
        "outputId": "a585f2be-5978-4720-bf48-b098e689b1df",
        "colab": {
          "base_uri": "https://localhost:8080/"
        }
      },
      "execution_count": 10,
      "outputs": [
        {
          "output_type": "execute_result",
          "data": {
            "text/plain": [
              "(9857, 55)"
            ]
          },
          "metadata": {},
          "execution_count": 10
        }
      ]
    },
    {
      "cell_type": "markdown",
      "source": [
        "### Información de los datos cargados"
      ],
      "metadata": {
        "id": "nD8Ss80yXtZW"
      }
    },
    {
      "cell_type": "code",
      "source": [
        "datos_dane.info()"
      ],
      "metadata": {
        "id": "q1WnkoJC6yEp",
        "colab": {
          "base_uri": "https://localhost:8080/"
        },
        "outputId": "c771e76b-c2a4-489b-9a1a-0758685032f1"
      },
      "execution_count": 12,
      "outputs": [
        {
          "output_type": "stream",
          "name": "stdout",
          "text": [
            "<class 'pandas.core.frame.DataFrame'>\n",
            "RangeIndex: 9857 entries, 0 to 9856\n",
            "Data columns (total 55 columns):\n",
            " #   Column            Non-Null Count  Dtype  \n",
            "---  ------            --------------  -----  \n",
            " 0   DIRECTORIO        9857 non-null   float64\n",
            " 1   NOMBRE_LOCALIDAD  9857 non-null   object \n",
            " 2   NOMBRE_ESTRATO    9857 non-null   object \n",
            " 3   NVCBP4            9857 non-null   int64  \n",
            " 4   NVCBP14A          9857 non-null   int64  \n",
            " 5   NVCBP14D          9857 non-null   int64  \n",
            " 6   NVCBP14E          9857 non-null   int64  \n",
            " 7   NVCBP14G          9857 non-null   int64  \n",
            " 8   NVCBP15A          9857 non-null   int64  \n",
            " 9   NVCBP15C          9857 non-null   int64  \n",
            " 10  NVCBP15F          9857 non-null   int64  \n",
            " 11  NVCBP15G          9857 non-null   int64  \n",
            " 12  NVCBP16A3         9857 non-null   int64  \n",
            " 13  NVCBP16A4         9857 non-null   int64  \n",
            " 14  NPCKP17           9857 non-null   float64\n",
            " 15  NPCKP18           9857 non-null   float64\n",
            " 16  NPCKP23           9558 non-null   float64\n",
            " 17  NPCKP44A          9857 non-null   float64\n",
            " 18  NPCKPN62A         9857 non-null   float64\n",
            " 19  NPCKPN62B         9558 non-null   float64\n",
            " 20  NPCKP64A          9857 non-null   int64  \n",
            " 21  NPCKP64E          9857 non-null   int64  \n",
            " 22  NHCCP3            9857 non-null   float64\n",
            " 23  NHCCP6            9857 non-null   float64\n",
            " 24  NHCCP7            9558 non-null   float64\n",
            " 25  NHCCP8_1          1434 non-null   float64\n",
            " 26  NHCCP8_2          1434 non-null   float64\n",
            " 27  NHCCP8_3          1434 non-null   float64\n",
            " 28  NHCCP8_6          1434 non-null   float64\n",
            " 29  NHCCP8_7          1434 non-null   float64\n",
            " 30  NHCCP8_8          1434 non-null   float64\n",
            " 31  NHCCP8_9          1434 non-null   float64\n",
            " 32  NHCCP9            9558 non-null   float64\n",
            " 33  NHCCP11           9857 non-null   int64  \n",
            " 34  NHCCP11A          1177 non-null   float64\n",
            " 35  NHCCP12           8680 non-null   float64\n",
            " 36  NHCCP41           9857 non-null   int64  \n",
            " 37  NHCCP41A          4987 non-null   float64\n",
            " 38  NHCCP47A          9857 non-null   int64  \n",
            " 39  NHCCP47B          9857 non-null   int64  \n",
            " 40  NHCLP2A           9857 non-null   int64  \n",
            " 41  NHCLP2B           9857 non-null   int64  \n",
            " 42  NHCLP2C           9857 non-null   int64  \n",
            " 43  NHCLP2E           9857 non-null   int64  \n",
            " 44  NHCLP4            9857 non-null   int64  \n",
            " 45  NHCLP5            9857 non-null   int64  \n",
            " 46  NHCLP8AB          288 non-null    float64\n",
            " 47  NHCLP8AE          288 non-null    float64\n",
            " 48  NHCLP10           9857 non-null   int64  \n",
            " 49  NHCLP11           9857 non-null   int64  \n",
            " 50  NHCLP29_1A        410 non-null    float64\n",
            " 51  NHCLP29_1C        143 non-null    float64\n",
            " 52  NHCLP29_1E        1272 non-null   float64\n",
            " 53  NHCLP29_1F        152 non-null    float64\n",
            " 54  NPCHP4            9447 non-null   float64\n",
            "dtypes: float64(28), int64(25), object(2)\n",
            "memory usage: 4.1+ MB\n"
          ]
        }
      ]
    },
    {
      "cell_type": "markdown",
      "source": [
        "### Diccionario para renombrar las columnas"
      ],
      "metadata": {
        "id": "P-QTTEFbY2G4"
      }
    },
    {
      "cell_type": "code",
      "source": [
        "dic_dane = {\n",
        "       'NVCBP4':'CONJUNTO_CERRADO',\n",
        "       'NVCBP14A':'FABRICAS_CERCA', 'NVCBP14D':'TERMINALES_BUS', 'NVCBP14E':'BARES_DISCO', \n",
        "       'NVCBP14G':'OSCURO_PELIGROSO', 'NVCBP15A':'RUIDO', 'NVCBP15C':'INSEGURIDAD',\n",
        "       'NVCBP15F':'BASURA_INADECUADA', 'NVCBP15G':'INVASION','NVCBP16A3':'MOV_ADULTOS_MAYORES', \n",
        "       'NVCBP16A4':'MOV_NINOS_BEBES',\n",
        "       'NPCKP17':'OCUPACION','NPCKP18':'CONTRATO','NPCKP23':'SALARIO_MES', \n",
        "       'NPCKP44A':'DONDE_TRABAJA', 'NPCKPN62A':'DECLARACION_RENTA', \n",
        "       'NPCKPN62B':'VALOR_DECLARACION', 'NPCKP64A':'PERDIDA_TRABAJO_C19', \n",
        "       'NPCKP64E':'PERDIDA_INGRESOS_C19',\n",
        "       'NHCCP3':'TIENE_ESCRITURA', 'NHCCP6':'ANO_COMPRA', 'NHCCP7':'VALOR_COMPRA', 'NHCCP8_1':'HIPOTECA_CRED_BANCO',\n",
        "       'NHCCP8_2':'OTRO_CRED_BANCO', 'NHCCP8_3':'CRED_FNA', 'NHCCP8_6':'PRESTAMOS_AMIGOS',\n",
        "       'NHCCP8_7':'CESANTIAS', 'NHCCP8_8':'AHORROS', 'NHCCP8_9':'SUBSIDIOS',\n",
        "       'NHCCP9':'CUANTO_PAGARIA_MENSUAL', 'NHCCP11':'PLANES_ADQUIRIR_VIVIENDA', \n",
        "       'NHCCP11A':'MOTIVO_COMPRA', 'NHCCP12':'RAZON_NO_ADQ_VIV', 'NHCCP41':'TIENE_CARRO','NHCCP41A':'CUANTOS_CARROS',\n",
        "       'NHCCP47A':'TIENE_PERROS', 'NHCCP47B':'TIENE_GATOS', 'NHCLP2A':'VICTIMA_ATRACO', 'NHCLP2B':'VICTIMA_HOMICIDIO', \n",
        "       'NHCLP2C':'VICTIMA_PERSECUSION',\n",
        "       'NHCLP2E':'VICTIMA_ACOSO', 'NHCLP4':'COMO_VIVE_ECON', 'NHCLP5':'COMO_NIVEL_VIDA', \n",
        "       'NHCLP8AB':'REACCION_OPORTUNA_POLICIA', 'NHCLP8AE':'COMO_TRANSPORTE_URBANO', 'NHCLP10':'SON_INGRESOS_SUFICIENTES',\n",
        "       'NHCLP11':'SE_CONSIDERA_POBRE', 'NHCLP29_1A':'MED_C19_TRABAJO', \n",
        "       'NHCLP29_1C':'MED_C19_CAMBIO_VIVIENDA', 'NHCLP29_1E':'MED_C19_ENDEUDAMIENTO', \n",
        "       'NHCLP29_1F':'MED_C19_VENTA_BIENES','NPCHP4':'NIVEL_EDUCATIVO'\n",
        "       }\n",
        "\n",
        "datos_dane = datos_dane.rename(columns=dic_dane)\n",
        "datos_dane.columns"
      ],
      "metadata": {
        "id": "IrXPNbzRY5gt",
        "outputId": "8a23e2a3-551a-4f6f-8818-7878c373e195",
        "colab": {
          "base_uri": "https://localhost:8080/"
        }
      },
      "execution_count": 13,
      "outputs": [
        {
          "output_type": "execute_result",
          "data": {
            "text/plain": [
              "Index(['DIRECTORIO', 'NOMBRE_LOCALIDAD', 'NOMBRE_ESTRATO', 'CONJUNTO_CERRADO',\n",
              "       'FABRICAS_CERCA', 'TERMINALES_BUS', 'BARES_DISCO', 'OSCURO_PELIGROSO',\n",
              "       'RUIDO', 'INSEGURIDAD', 'BASURA_INADECUADA', 'INVASION',\n",
              "       'MOV_ADULTOS_MAYORES', 'MOV_NINOS_BEBES', 'OCUPACION', 'CONTRATO',\n",
              "       'SALARIO_MES', 'DONDE_TRABAJA', 'DECLARACION_RENTA',\n",
              "       'VALOR_DECLARACION', 'PERDIDA_TRABAJO_C19', 'PERDIDA_INGRESOS_C19',\n",
              "       'TIENE_ESCRITURA', 'ANO_COMPRA', 'VALOR_COMPRA', 'HIPOTECA_CRED_BANCO',\n",
              "       'OTRO_CRED_BANCO', 'CRED_FNA', 'PRESTAMOS_AMIGOS', 'CESANTIAS',\n",
              "       'AHORROS', 'SUBSIDIOS', 'CUANTO_PAGARIA_MENSUAL',\n",
              "       'PLANES_ADQUIRIR_VIVIENDA', 'MOTIVO_COMPRA', 'RAZON_NO_ADQ_VIV',\n",
              "       'TIENE_CARRO', 'CUANTOS_CARROS', 'TIENE_PERROS', 'TIENE_GATOS',\n",
              "       'VICTIMA_ATRACO', 'VICTIMA_HOMICIDIO', 'VICTIMA_PERSECUSION',\n",
              "       'VICTIMA_ACOSO', 'COMO_VIVE_ECON', 'COMO_NIVEL_VIDA',\n",
              "       'REACCION_OPORTUNA_POLICIA', 'COMO_TRANSPORTE_URBANO',\n",
              "       'SON_INGRESOS_SUFICIENTES', 'SE_CONSIDERA_POBRE', 'MED_C19_TRABAJO',\n",
              "       'MED_C19_CAMBIO_VIVIENDA', 'MED_C19_ENDEUDAMIENTO',\n",
              "       'MED_C19_VENTA_BIENES', 'NIVEL_EDUCATIVO'],\n",
              "      dtype='object')"
            ]
          },
          "metadata": {},
          "execution_count": 13
        }
      ]
    },
    {
      "cell_type": "markdown",
      "source": [
        "### Información de los datos cargados nuevamente\n"
      ],
      "metadata": {
        "id": "GA8cOn8GZQno"
      }
    },
    {
      "cell_type": "code",
      "source": [
        "datos_dane.info()"
      ],
      "metadata": {
        "id": "lnuBP8fQZAF8",
        "outputId": "cafae592-6d48-4bab-fa3f-83f96c0ded3a",
        "colab": {
          "base_uri": "https://localhost:8080/"
        }
      },
      "execution_count": 14,
      "outputs": [
        {
          "output_type": "stream",
          "name": "stdout",
          "text": [
            "<class 'pandas.core.frame.DataFrame'>\n",
            "RangeIndex: 9857 entries, 0 to 9856\n",
            "Data columns (total 55 columns):\n",
            " #   Column                     Non-Null Count  Dtype  \n",
            "---  ------                     --------------  -----  \n",
            " 0   DIRECTORIO                 9857 non-null   float64\n",
            " 1   NOMBRE_LOCALIDAD           9857 non-null   object \n",
            " 2   NOMBRE_ESTRATO             9857 non-null   object \n",
            " 3   CONJUNTO_CERRADO           9857 non-null   int64  \n",
            " 4   FABRICAS_CERCA             9857 non-null   int64  \n",
            " 5   TERMINALES_BUS             9857 non-null   int64  \n",
            " 6   BARES_DISCO                9857 non-null   int64  \n",
            " 7   OSCURO_PELIGROSO           9857 non-null   int64  \n",
            " 8   RUIDO                      9857 non-null   int64  \n",
            " 9   INSEGURIDAD                9857 non-null   int64  \n",
            " 10  BASURA_INADECUADA          9857 non-null   int64  \n",
            " 11  INVASION                   9857 non-null   int64  \n",
            " 12  MOV_ADULTOS_MAYORES        9857 non-null   int64  \n",
            " 13  MOV_NINOS_BEBES            9857 non-null   int64  \n",
            " 14  OCUPACION                  9857 non-null   float64\n",
            " 15  CONTRATO                   9857 non-null   float64\n",
            " 16  SALARIO_MES                9558 non-null   float64\n",
            " 17  DONDE_TRABAJA              9857 non-null   float64\n",
            " 18  DECLARACION_RENTA          9857 non-null   float64\n",
            " 19  VALOR_DECLARACION          9558 non-null   float64\n",
            " 20  PERDIDA_TRABAJO_C19        9857 non-null   int64  \n",
            " 21  PERDIDA_INGRESOS_C19       9857 non-null   int64  \n",
            " 22  TIENE_ESCRITURA            9857 non-null   float64\n",
            " 23  ANO_COMPRA                 9857 non-null   float64\n",
            " 24  VALOR_COMPRA               9558 non-null   float64\n",
            " 25  HIPOTECA_CRED_BANCO        1434 non-null   float64\n",
            " 26  OTRO_CRED_BANCO            1434 non-null   float64\n",
            " 27  CRED_FNA                   1434 non-null   float64\n",
            " 28  PRESTAMOS_AMIGOS           1434 non-null   float64\n",
            " 29  CESANTIAS                  1434 non-null   float64\n",
            " 30  AHORROS                    1434 non-null   float64\n",
            " 31  SUBSIDIOS                  1434 non-null   float64\n",
            " 32  CUANTO_PAGARIA_MENSUAL     9558 non-null   float64\n",
            " 33  PLANES_ADQUIRIR_VIVIENDA   9857 non-null   int64  \n",
            " 34  MOTIVO_COMPRA              1177 non-null   float64\n",
            " 35  RAZON_NO_ADQ_VIV           8680 non-null   float64\n",
            " 36  TIENE_CARRO                9857 non-null   int64  \n",
            " 37  CUANTOS_CARROS             4987 non-null   float64\n",
            " 38  TIENE_PERROS               9857 non-null   int64  \n",
            " 39  TIENE_GATOS                9857 non-null   int64  \n",
            " 40  VICTIMA_ATRACO             9857 non-null   int64  \n",
            " 41  VICTIMA_HOMICIDIO          9857 non-null   int64  \n",
            " 42  VICTIMA_PERSECUSION        9857 non-null   int64  \n",
            " 43  VICTIMA_ACOSO              9857 non-null   int64  \n",
            " 44  COMO_VIVE_ECON             9857 non-null   int64  \n",
            " 45  COMO_NIVEL_VIDA            9857 non-null   int64  \n",
            " 46  REACCION_OPORTUNA_POLICIA  288 non-null    float64\n",
            " 47  COMO_TRANSPORTE_URBANO     288 non-null    float64\n",
            " 48  SON_INGRESOS_SUFICIENTES   9857 non-null   int64  \n",
            " 49  SE_CONSIDERA_POBRE         9857 non-null   int64  \n",
            " 50  MED_C19_TRABAJO            410 non-null    float64\n",
            " 51  MED_C19_CAMBIO_VIVIENDA    143 non-null    float64\n",
            " 52  MED_C19_ENDEUDAMIENTO      1272 non-null   float64\n",
            " 53  MED_C19_VENTA_BIENES       152 non-null    float64\n",
            " 54  NIVEL_EDUCATIVO            9447 non-null   float64\n",
            "dtypes: float64(28), int64(25), object(2)\n",
            "memory usage: 4.1+ MB\n"
          ]
        }
      ]
    },
    {
      "cell_type": "code",
      "source": [],
      "metadata": {
        "id": "GZ7uwy5wZWBp"
      },
      "execution_count": null,
      "outputs": []
    }
  ]
}