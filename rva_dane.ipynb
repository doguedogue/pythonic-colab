{
  "nbformat": 4,
  "nbformat_minor": 0,
  "metadata": {
    "colab": {
      "provenance": [],
      "authorship_tag": "ABX9TyNOABF2CITSovPTohIQyqnM",
      "include_colab_link": true
    },
    "kernelspec": {
      "name": "python3",
      "display_name": "Python 3"
    },
    "language_info": {
      "name": "python"
    }
  },
  "cells": [
    {
      "cell_type": "markdown",
      "metadata": {
        "id": "view-in-github",
        "colab_type": "text"
      },
      "source": [
        "<a href=\"https://colab.research.google.com/github/doguedogue/pythonic-colab/blob/main/rva_dane.ipynb\" target=\"_parent\"><img src=\"https://colab.research.google.com/assets/colab-badge.svg\" alt=\"Open In Colab\"/></a>"
      ]
    },
    {
      "cell_type": "markdown",
      "source": [
        "#Pythonic - Colab - DANE"
      ],
      "metadata": {
        "id": "IO9J1SLAieAF"
      }
    },
    {
      "cell_type": "markdown",
      "source": [
        "## Aula 3\n"
      ],
      "metadata": {
        "id": "JrWhYwh3ikft"
      }
    },
    {
      "cell_type": "markdown",
      "source": [
        "### Carga google drive"
      ],
      "metadata": {
        "id": "7QlZD76BitfU"
      }
    },
    {
      "cell_type": "code",
      "source": [],
      "metadata": {
        "id": "AgIkGoOIihoK"
      },
      "execution_count": null,
      "outputs": []
    }
  ]
}